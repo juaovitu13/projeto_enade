{
 "cells": [
  {
   "cell_type": "markdown",
   "id": "68f04345-c8af-4583-84d1-430427262b3f",
   "metadata": {},
   "source": [
    "# Extração dos dados do enade"
   ]
  },
  {
   "cell_type": "code",
   "execution_count": 8,
   "id": "bd0f2dc5-8d83-4916-b1d6-117a0442c779",
   "metadata": {},
   "outputs": [],
   "source": [
    "# Importar bibliotecas necessárias\n",
    "\n",
    "import pandas as pd \n",
    "import numpy as np\n",
    "import zipfile\n",
    "import requests \n",
    "from io import BytesIO\n",
    "import os "
   ]
  },
  {
   "cell_type": "code",
   "execution_count": 9,
   "id": "d88e6da2-afe7-491f-a72b-7cbf61a86908",
   "metadata": {},
   "outputs": [],
   "source": [
    "# Criar um diretório para armazenar o conteúdo do ENADE\n",
    "os.makedirs('./enade2019', exist_ok=True)"
   ]
  },
  {
   "cell_type": "code",
   "execution_count": 10,
   "id": "418fc23e-df20-4353-ab37-2bdf74b11198",
   "metadata": {},
   "outputs": [
    {
     "name": "stderr",
     "output_type": "stream",
     "text": [
      "c:\\Users\\jvgam\\AppData\\Local\\Programs\\Python\\Python312\\Lib\\site-packages\\urllib3\\connectionpool.py:1045: InsecureRequestWarning: Unverified HTTPS request is being made to host 'download.inep.gov.br'. Adding certificate verification is strongly advised. See: https://urllib3.readthedocs.io/en/1.26.x/advanced-usage.html#ssl-warnings\n",
      "  warnings.warn(\n"
     ]
    },
    {
     "data": {
      "text/plain": [
       "'Foi necessário mudar a versão da lib para poder funcionar com python 3\\n comando utilizado: pip install --upgrade --force-reinstall urllib3==1.26.15'"
      ]
     },
     "execution_count": 10,
     "metadata": {},
     "output_type": "execute_result"
    }
   ],
   "source": [
    "# Definir a url\n",
    "url = \"https://download.inep.gov.br/microdados/microdados_enade_2019_LGPD.zip\"\n",
    "\n",
    "#Realizando download dos dados\n",
    "filebytes = BytesIO(requests.get(url, verify=False).content)\n",
    "\n",
    "# Extraindo conteúdo do zipfile\n",
    "myzip = zipfile.ZipFile(filebytes)\n",
    "myzip.extractall(\"./enade2019\")\n",
    "\n",
    "'''Foi necessário mudar a versão da lib para poder funcionar com python 3\n",
    " comando utilizado: pip install --upgrade --force-reinstall urllib3==1.26.15'''"
   ]
  },
  {
   "cell_type": "markdown",
   "id": "7e95fbea-7718-488e-ace6-d9c62aaa68b9",
   "metadata": {},
   "source": [
    "## Verificando os dados baixados"
   ]
  },
  {
   "cell_type": "code",
   "execution_count": 11,
   "id": "c31502d9-a613-4ae6-a1e8-0624b32d49cd",
   "metadata": {},
   "outputs": [],
   "source": [
    "# Caminho para o diretório extraído\n",
    "data_dir = \"./enade2019/microdados_Enade_2019_LGPD/2. DADOS/\"\n",
    "\n",
    "# Lista para armazenar os DataFrames\n",
    "dataframes = []"
   ]
  },
  {
   "cell_type": "code",
   "execution_count": 12,
   "id": "b0f68fe9",
   "metadata": {},
   "outputs": [],
   "source": [
    "# Listar todos os arquivos .txt no diretório de dados\n",
    "txt_files = [f for f in os.listdir(data_dir) if f.endswith('.txt')]\n",
    "\n",
    "# Ler todos os arquivos .txt e armazenar os DataFrames na lista\n",
    "for txt_file in txt_files:\n",
    "    file_path = os.path.join(data_dir, txt_file)\n",
    "    df = pd.read_csv(file_path, sep=\";\", decimal=\",\", low_memory=False)\n",
    "    dataframes.append(df)\n",
    "\n",
    "# Combinar todos os DataFrames em um único DataFrame\n",
    "enade = pd.concat(dataframes, ignore_index=True)"
   ]
  },
  {
   "cell_type": "code",
   "execution_count": 13,
   "id": "302b091b",
   "metadata": {},
   "outputs": [
    {
     "name": "stdout",
     "output_type": "stream",
     "text": [
      "<class 'pandas.core.frame.DataFrame'>\n",
      "RangeIndex: 13885760 entries, 0 to 13885759\n",
      "Columns: 133 entries, NU_ANO to QE_I03\n",
      "dtypes: float64(82), int64(2), object(49)\n",
      "memory usage: 13.8+ GB\n"
     ]
    }
   ],
   "source": [
    "enade.info()"
   ]
  },
  {
   "cell_type": "code",
   "execution_count": 14,
   "id": "13d0c198",
   "metadata": {},
   "outputs": [
    {
     "data": {
      "text/plain": [
       "{'NU_ANO': dtype('int64'),\n",
       " 'CO_CURSO': dtype('int64'),\n",
       " 'CO_IES': dtype('float64'),\n",
       " 'CO_CATEGAD': dtype('float64'),\n",
       " 'CO_ORGACAD': dtype('float64'),\n",
       " 'CO_GRUPO': dtype('float64'),\n",
       " 'CO_MODALIDADE': dtype('float64'),\n",
       " 'CO_MUNIC_CURSO': dtype('float64'),\n",
       " 'CO_UF_CURSO': dtype('float64'),\n",
       " 'CO_REGIAO_CURSO': dtype('float64'),\n",
       " 'QE_I04': dtype('O'),\n",
       " 'QE_I05': dtype('O'),\n",
       " 'QE_I06': dtype('O'),\n",
       " 'QE_I07': dtype('O'),\n",
       " 'QE_I08': dtype('O'),\n",
       " 'QE_I09': dtype('O'),\n",
       " 'QE_I10': dtype('O'),\n",
       " 'QE_I11': dtype('O'),\n",
       " 'QE_I12': dtype('O'),\n",
       " 'QE_I13': dtype('O'),\n",
       " 'ANO_FIM_EM': dtype('float64'),\n",
       " 'ANO_IN_GRAD': dtype('float64'),\n",
       " 'CO_TURNO_GRADUACAO': dtype('float64'),\n",
       " 'QE_I14': dtype('O'),\n",
       " 'QE_I15': dtype('O'),\n",
       " 'QE_I16': dtype('float64'),\n",
       " 'QE_I17': dtype('O'),\n",
       " 'QE_I18': dtype('O'),\n",
       " 'QE_I19': dtype('O'),\n",
       " 'QE_I20': dtype('O'),\n",
       " 'QE_I21': dtype('O'),\n",
       " 'QE_I22': dtype('O'),\n",
       " 'QE_I23': dtype('O'),\n",
       " 'NU_ITEM_OFG': dtype('float64'),\n",
       " 'NU_ITEM_OFG_Z': dtype('float64'),\n",
       " 'NU_ITEM_OFG_X': dtype('float64'),\n",
       " 'NU_ITEM_OFG_N': dtype('float64'),\n",
       " 'NU_ITEM_OCE': dtype('float64'),\n",
       " 'NU_ITEM_OCE_Z': dtype('float64'),\n",
       " 'NU_ITEM_OCE_X': dtype('float64'),\n",
       " 'NU_ITEM_OCE_N': dtype('float64'),\n",
       " 'DS_VT_GAB_OFG_FIN': dtype('O'),\n",
       " 'DS_VT_GAB_OCE_FIN': dtype('O'),\n",
       " 'DS_VT_ESC_OFG': dtype('O'),\n",
       " 'DS_VT_ACE_OFG': dtype('float64'),\n",
       " 'DS_VT_ESC_OCE': dtype('O'),\n",
       " 'DS_VT_ACE_OCE': dtype('O'),\n",
       " 'TP_PRES': dtype('float64'),\n",
       " 'TP_PR_GER': dtype('float64'),\n",
       " 'TP_PR_OB_FG': dtype('float64'),\n",
       " 'TP_PR_DI_FG': dtype('float64'),\n",
       " 'TP_PR_OB_CE': dtype('float64'),\n",
       " 'TP_PR_DI_CE': dtype('float64'),\n",
       " 'TP_SFG_D1': dtype('float64'),\n",
       " 'TP_SFG_D2': dtype('float64'),\n",
       " 'TP_SCE_D1': dtype('float64'),\n",
       " 'TP_SCE_D2': dtype('float64'),\n",
       " 'TP_SCE_D3': dtype('float64'),\n",
       " 'NT_GER': dtype('O'),\n",
       " 'NT_FG': dtype('O'),\n",
       " 'NT_OBJ_FG': dtype('O'),\n",
       " 'NT_DIS_FG': dtype('O'),\n",
       " 'NT_FG_D1': dtype('float64'),\n",
       " 'NT_FG_D1_PT': dtype('float64'),\n",
       " 'NT_FG_D1_CT': dtype('float64'),\n",
       " 'NT_FG_D2': dtype('float64'),\n",
       " 'NT_FG_D2_PT': dtype('float64'),\n",
       " 'NT_FG_D2_CT': dtype('float64'),\n",
       " 'NT_CE': dtype('O'),\n",
       " 'NT_OBJ_CE': dtype('O'),\n",
       " 'NT_DIS_CE': dtype('O'),\n",
       " 'NT_CE_D1': dtype('O'),\n",
       " 'NT_CE_D2': dtype('float64'),\n",
       " 'NT_CE_D3': dtype('O'),\n",
       " 'CO_RS_I1': dtype('O'),\n",
       " 'CO_RS_I2': dtype('O'),\n",
       " 'CO_RS_I3': dtype('O'),\n",
       " 'CO_RS_I4': dtype('O'),\n",
       " 'CO_RS_I5': dtype('O'),\n",
       " 'CO_RS_I6': dtype('O'),\n",
       " 'CO_RS_I7': dtype('O'),\n",
       " 'CO_RS_I8': dtype('O'),\n",
       " 'CO_RS_I9': dtype('O'),\n",
       " 'QE_I24': dtype('O'),\n",
       " 'QE_I25': dtype('O'),\n",
       " 'QE_I26': dtype('O'),\n",
       " 'QE_I27': dtype('float64'),\n",
       " 'QE_I28': dtype('float64'),\n",
       " 'QE_I29': dtype('float64'),\n",
       " 'QE_I30': dtype('float64'),\n",
       " 'QE_I31': dtype('float64'),\n",
       " 'QE_I32': dtype('float64'),\n",
       " 'QE_I33': dtype('float64'),\n",
       " 'QE_I34': dtype('float64'),\n",
       " 'QE_I35': dtype('float64'),\n",
       " 'QE_I36': dtype('float64'),\n",
       " 'QE_I37': dtype('float64'),\n",
       " 'QE_I38': dtype('float64'),\n",
       " 'QE_I39': dtype('float64'),\n",
       " 'QE_I40': dtype('float64'),\n",
       " 'QE_I41': dtype('float64'),\n",
       " 'QE_I42': dtype('float64'),\n",
       " 'QE_I43': dtype('float64'),\n",
       " 'QE_I44': dtype('float64'),\n",
       " 'QE_I45': dtype('float64'),\n",
       " 'QE_I46': dtype('float64'),\n",
       " 'QE_I47': dtype('float64'),\n",
       " 'QE_I48': dtype('float64'),\n",
       " 'QE_I49': dtype('float64'),\n",
       " 'QE_I50': dtype('float64'),\n",
       " 'QE_I51': dtype('float64'),\n",
       " 'QE_I52': dtype('float64'),\n",
       " 'QE_I53': dtype('float64'),\n",
       " 'QE_I54': dtype('float64'),\n",
       " 'QE_I55': dtype('float64'),\n",
       " 'QE_I56': dtype('float64'),\n",
       " 'QE_I57': dtype('float64'),\n",
       " 'QE_I58': dtype('float64'),\n",
       " 'QE_I59': dtype('float64'),\n",
       " 'QE_I60': dtype('float64'),\n",
       " 'QE_I61': dtype('float64'),\n",
       " 'QE_I62': dtype('float64'),\n",
       " 'QE_I63': dtype('float64'),\n",
       " 'QE_I64': dtype('float64'),\n",
       " 'QE_I65': dtype('float64'),\n",
       " 'QE_I66': dtype('float64'),\n",
       " 'QE_I67': dtype('float64'),\n",
       " 'QE_I68': dtype('float64'),\n",
       " 'TP_SEXO': dtype('O'),\n",
       " 'NU_IDADE': dtype('float64'),\n",
       " 'QE_I01': dtype('O'),\n",
       " 'QE_I02': dtype('O'),\n",
       " 'QE_I03': dtype('O')}"
      ]
     },
     "execution_count": 14,
     "metadata": {},
     "output_type": "execute_result"
    }
   ],
   "source": [
    "dict(enade.dtypes)"
   ]
  }
 ],
 "metadata": {
  "kernelspec": {
   "display_name": "Python 3 (ipykernel)",
   "language": "python",
   "name": "python3"
  },
  "language_info": {
   "codemirror_mode": {
    "name": "ipython",
    "version": 3
   },
   "file_extension": ".py",
   "mimetype": "text/x-python",
   "name": "python",
   "nbconvert_exporter": "python",
   "pygments_lexer": "ipython3",
   "version": "3.12.3"
  }
 },
 "nbformat": 4,
 "nbformat_minor": 5
}
