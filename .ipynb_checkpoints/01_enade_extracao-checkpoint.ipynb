{
 "cells": [
  {
   "cell_type": "markdown",
   "id": "68f04345-c8af-4583-84d1-430427262b3f",
   "metadata": {},
   "source": [
    "# Extração dos dados do enade"
   ]
  },
  {
   "cell_type": "code",
   "execution_count": 1,
   "id": "bd0f2dc5-8d83-4916-b1d6-117a0442c779",
   "metadata": {},
   "outputs": [],
   "source": [
    "# Importar bibliotecas necessárias\n",
    "\n",
    "import pandas as pd \n",
    "import numpy as np\n",
    "import zipfile\n",
    "import requests \n",
    "from io import BytesIO\n",
    "import os "
   ]
  },
  {
   "cell_type": "code",
   "execution_count": 2,
   "id": "d88e6da2-afe7-491f-a72b-7cbf61a86908",
   "metadata": {},
   "outputs": [],
   "source": [
    "# Criar um diretório para armazenar o conteúdo do ENADE\n",
    "os.makedirs('./enade2019', exist_ok=True)"
   ]
  },
  {
   "cell_type": "code",
   "execution_count": null,
   "id": "418fc23e-df20-4353-ab37-2bdf74b11198",
   "metadata": {},
   "outputs": [],
   "source": [
    "# Definir a url\n",
    "url = 'https://download.inep.gov.br/microdados/microdados_enade_2019_LGPD.zip'\n",
    "\n",
    "#Realizando download dos dados\n",
    "filebytes = BytesIO(requests.get(url, verify=False).content)\n",
    "\n",
    "# Extraindo conteúdo do zipfile\n",
    "myzip = zipfile.ZipFile(filebytes)\n",
    "myzip.extractall(\"./enade2019\")\n",
    "\n",
    "'''Foi necessário mudar a versão da lib para poder funcionar com python 3\n",
    " comando utilizado: pip install --upgrade --force-reinstall urllib3==1.26.15'''"
   ]
  },
  {
   "cell_type": "markdown",
   "id": "7e95fbea-7718-488e-ace6-d9c62aaa68b9",
   "metadata": {},
   "source": [
    "## Verificando os dados baixados"
   ]
  },
  {
   "cell_type": "code",
   "execution_count": null,
   "id": "c31502d9-a613-4ae6-a1e8-0624b32d49cd",
   "metadata": {},
   "outputs": [],
   "source": []
  }
 ],
 "metadata": {
  "kernelspec": {
   "display_name": "Python 3 (ipykernel)",
   "language": "python",
   "name": "python3"
  },
  "language_info": {
   "codemirror_mode": {
    "name": "ipython",
    "version": 3
   },
   "file_extension": ".py",
   "mimetype": "text/x-python",
   "name": "python",
   "nbconvert_exporter": "python",
   "pygments_lexer": "ipython3",
   "version": "3.12.4"
  }
 },
 "nbformat": 4,
 "nbformat_minor": 5
}
